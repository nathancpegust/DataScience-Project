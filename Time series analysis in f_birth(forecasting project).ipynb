{
 "cells": [
  {
   "cell_type": "code",
   "execution_count": 1,
   "id": "d81edf8c",
   "metadata": {},
   "outputs": [],
   "source": [
    "import pandas as pd\n",
    "import matplotlib.pyplot as pit\n",
    "%matplotlib inline"
   ]
  },
  {
   "cell_type": "code",
   "execution_count": 2,
   "id": "3e7426e1",
   "metadata": {},
   "outputs": [],
   "source": [
    "f_birth = pd.read_csv('daily-total-female-births.csv',parse_dates = [0],index_col = [0])"
   ]
  },
  {
   "cell_type": "code",
   "execution_count": 3,
   "id": "fb28a8f1",
   "metadata": {},
   "outputs": [
    {
     "data": {
      "text/html": [
       "<div>\n",
       "<style scoped>\n",
       "    .dataframe tbody tr th:only-of-type {\n",
       "        vertical-align: middle;\n",
       "    }\n",
       "\n",
       "    .dataframe tbody tr th {\n",
       "        vertical-align: top;\n",
       "    }\n",
       "\n",
       "    .dataframe thead th {\n",
       "        text-align: right;\n",
       "    }\n",
       "</style>\n",
       "<table border=\"1\" class=\"dataframe\">\n",
       "  <thead>\n",
       "    <tr style=\"text-align: right;\">\n",
       "      <th></th>\n",
       "      <th>Births</th>\n",
       "    </tr>\n",
       "    <tr>\n",
       "      <th>Date</th>\n",
       "      <th></th>\n",
       "    </tr>\n",
       "  </thead>\n",
       "  <tbody>\n",
       "    <tr>\n",
       "      <th>1959-01-01</th>\n",
       "      <td>35</td>\n",
       "    </tr>\n",
       "    <tr>\n",
       "      <th>1959-01-02</th>\n",
       "      <td>32</td>\n",
       "    </tr>\n",
       "    <tr>\n",
       "      <th>1959-01-03</th>\n",
       "      <td>30</td>\n",
       "    </tr>\n",
       "    <tr>\n",
       "      <th>1959-01-04</th>\n",
       "      <td>31</td>\n",
       "    </tr>\n",
       "    <tr>\n",
       "      <th>1959-01-05</th>\n",
       "      <td>44</td>\n",
       "    </tr>\n",
       "  </tbody>\n",
       "</table>\n",
       "</div>"
      ],
      "text/plain": [
       "            Births\n",
       "Date              \n",
       "1959-01-01      35\n",
       "1959-01-02      32\n",
       "1959-01-03      30\n",
       "1959-01-04      31\n",
       "1959-01-05      44"
      ]
     },
     "execution_count": 3,
     "metadata": {},
     "output_type": "execute_result"
    }
   ],
   "source": [
    "f_birth.head()"
   ]
  },
  {
   "cell_type": "code",
   "execution_count": 4,
   "id": "143d1d8f",
   "metadata": {},
   "outputs": [],
   "source": [
    "series_value = f_birth.values"
   ]
  },
  {
   "cell_type": "code",
   "execution_count": 5,
   "id": "f998190e",
   "metadata": {},
   "outputs": [
    {
     "data": {
      "text/plain": [
       "365"
      ]
     },
     "execution_count": 5,
     "metadata": {},
     "output_type": "execute_result"
    }
   ],
   "source": [
    "f_birth.size"
   ]
  },
  {
   "cell_type": "code",
   "execution_count": 6,
   "id": "b17d0b72",
   "metadata": {},
   "outputs": [
    {
     "data": {
      "text/html": [
       "<div>\n",
       "<style scoped>\n",
       "    .dataframe tbody tr th:only-of-type {\n",
       "        vertical-align: middle;\n",
       "    }\n",
       "\n",
       "    .dataframe tbody tr th {\n",
       "        vertical-align: top;\n",
       "    }\n",
       "\n",
       "    .dataframe thead th {\n",
       "        text-align: right;\n",
       "    }\n",
       "</style>\n",
       "<table border=\"1\" class=\"dataframe\">\n",
       "  <thead>\n",
       "    <tr style=\"text-align: right;\">\n",
       "      <th></th>\n",
       "      <th>Births</th>\n",
       "    </tr>\n",
       "    <tr>\n",
       "      <th>Date</th>\n",
       "      <th></th>\n",
       "    </tr>\n",
       "  </thead>\n",
       "  <tbody>\n",
       "    <tr>\n",
       "      <th>1959-12-27</th>\n",
       "      <td>37</td>\n",
       "    </tr>\n",
       "    <tr>\n",
       "      <th>1959-12-28</th>\n",
       "      <td>52</td>\n",
       "    </tr>\n",
       "    <tr>\n",
       "      <th>1959-12-29</th>\n",
       "      <td>48</td>\n",
       "    </tr>\n",
       "    <tr>\n",
       "      <th>1959-12-30</th>\n",
       "      <td>55</td>\n",
       "    </tr>\n",
       "    <tr>\n",
       "      <th>1959-12-31</th>\n",
       "      <td>50</td>\n",
       "    </tr>\n",
       "  </tbody>\n",
       "</table>\n",
       "</div>"
      ],
      "text/plain": [
       "            Births\n",
       "Date              \n",
       "1959-12-27      37\n",
       "1959-12-28      52\n",
       "1959-12-29      48\n",
       "1959-12-30      55\n",
       "1959-12-31      50"
      ]
     },
     "execution_count": 6,
     "metadata": {},
     "output_type": "execute_result"
    }
   ],
   "source": [
    "f_birth.tail()"
   ]
  },
  {
   "cell_type": "code",
   "execution_count": 7,
   "id": "5594583c",
   "metadata": {},
   "outputs": [
    {
     "data": {
      "text/html": [
       "<div>\n",
       "<style scoped>\n",
       "    .dataframe tbody tr th:only-of-type {\n",
       "        vertical-align: middle;\n",
       "    }\n",
       "\n",
       "    .dataframe tbody tr th {\n",
       "        vertical-align: top;\n",
       "    }\n",
       "\n",
       "    .dataframe thead th {\n",
       "        text-align: right;\n",
       "    }\n",
       "</style>\n",
       "<table border=\"1\" class=\"dataframe\">\n",
       "  <thead>\n",
       "    <tr style=\"text-align: right;\">\n",
       "      <th></th>\n",
       "      <th>Births</th>\n",
       "    </tr>\n",
       "  </thead>\n",
       "  <tbody>\n",
       "    <tr>\n",
       "      <th>count</th>\n",
       "      <td>365.000000</td>\n",
       "    </tr>\n",
       "    <tr>\n",
       "      <th>mean</th>\n",
       "      <td>41.980822</td>\n",
       "    </tr>\n",
       "    <tr>\n",
       "      <th>std</th>\n",
       "      <td>7.348257</td>\n",
       "    </tr>\n",
       "    <tr>\n",
       "      <th>min</th>\n",
       "      <td>23.000000</td>\n",
       "    </tr>\n",
       "    <tr>\n",
       "      <th>25%</th>\n",
       "      <td>37.000000</td>\n",
       "    </tr>\n",
       "    <tr>\n",
       "      <th>50%</th>\n",
       "      <td>42.000000</td>\n",
       "    </tr>\n",
       "    <tr>\n",
       "      <th>75%</th>\n",
       "      <td>46.000000</td>\n",
       "    </tr>\n",
       "    <tr>\n",
       "      <th>max</th>\n",
       "      <td>73.000000</td>\n",
       "    </tr>\n",
       "  </tbody>\n",
       "</table>\n",
       "</div>"
      ],
      "text/plain": [
       "           Births\n",
       "count  365.000000\n",
       "mean    41.980822\n",
       "std      7.348257\n",
       "min     23.000000\n",
       "25%     37.000000\n",
       "50%     42.000000\n",
       "75%     46.000000\n",
       "max     73.000000"
      ]
     },
     "execution_count": 7,
     "metadata": {},
     "output_type": "execute_result"
    }
   ],
   "source": [
    "f_birth.describe()"
   ]
  },
  {
   "cell_type": "code",
   "execution_count": 8,
   "id": "a8eabc14",
   "metadata": {},
   "outputs": [
    {
     "data": {
      "text/plain": [
       "<AxesSubplot:xlabel='Date'>"
      ]
     },
     "execution_count": 8,
     "metadata": {},
     "output_type": "execute_result"
    },
    {
     "data": {
      "image/png": "[encoded data removed]",
      "text/plain": [
       "<Figure size 432x288 with 1 Axes>"
      ]
     },
     "metadata": {
      "needs_background": "light"
     },
     "output_type": "display_data"
    }
   ],
   "source": [
    "f_birth.plot()"
   ]
  },
  {
   "cell_type": "code",
   "execution_count": 9,
   "id": "d3957de6",
   "metadata": {},
   "outputs": [],
   "source": [
    "f_birth_mean = f_birth.rolling(window = 20).mean()"
   ]
  },
  {
   "cell_type": "code",
   "execution_count": 10,
   "id": "f761df00",
   "metadata": {},
   "outputs": [
    {
     "data": {
      "text/plain": [
       "<AxesSubplot:xlabel='Date'>"
      ]
     },
     "execution_count": 10,
     "metadata": {},
     "output_type": "execute_result"
    },
    {
     "data": {
      "image/png": "[encoded data removed]",
      "text/plain": [
       "<Figure size 432x288 with 1 Axes>"
      ]
     },
     "metadata": {
      "needs_background": "light"
     },
     "output_type": "display_data"
    },
    {
     "data": {
      "image/png": "[encoded data removed]",
      "text/plain": [
       "<Figure size 432x288 with 1 Axes>"
      ]
     },
     "metadata": {
      "needs_background": "light"
     },
     "output_type": "display_data"
    }
   ],
   "source": [
    "f_birth.plot()\n",
    "f_birth_mean.plot()"
   ]
  },
  {
   "cell_type": "markdown",
   "id": "79fda53a",
   "metadata": {},
   "source": [
    "## change series_value to dataframe"
   ]
  },
  {
   "cell_type": "code",
   "execution_count": 11,
   "id": "aafb01b0",
   "metadata": {},
   "outputs": [],
   "source": [
    "value = pd.DataFrame(series_value)"
   ]
  },
  {
   "cell_type": "code",
   "execution_count": 12,
   "id": "a110987e",
   "metadata": {},
   "outputs": [],
   "source": [
    "birth_df = pd.concat([value,value.shift(1)],axis=1)"
   ]
  },
  {
   "cell_type": "code",
   "execution_count": 13,
   "id": "eb3ba740",
   "metadata": {},
   "outputs": [
    {
     "data": {
      "text/html": [
       "<div>\n",
       "<style scoped>\n",
       "    .dataframe tbody tr th:only-of-type {\n",
       "        vertical-align: middle;\n",
       "    }\n",
       "\n",
       "    .dataframe tbody tr th {\n",
       "        vertical-align: top;\n",
       "    }\n",
       "\n",
       "    .dataframe thead th {\n",
       "        text-align: right;\n",
       "    }\n",
       "</style>\n",
       "<table border=\"1\" class=\"dataframe\">\n",
       "  <thead>\n",
       "    <tr style=\"text-align: right;\">\n",
       "      <th></th>\n",
       "      <th>0</th>\n",
       "      <th>0</th>\n",
       "    </tr>\n",
       "  </thead>\n",
       "  <tbody>\n",
       "    <tr>\n",
       "      <th>0</th>\n",
       "      <td>35</td>\n",
       "      <td>NaN</td>\n",
       "    </tr>\n",
       "    <tr>\n",
       "      <th>1</th>\n",
       "      <td>32</td>\n",
       "      <td>35.0</td>\n",
       "    </tr>\n",
       "    <tr>\n",
       "      <th>2</th>\n",
       "      <td>30</td>\n",
       "      <td>32.0</td>\n",
       "    </tr>\n",
       "    <tr>\n",
       "      <th>3</th>\n",
       "      <td>31</td>\n",
       "      <td>30.0</td>\n",
       "    </tr>\n",
       "    <tr>\n",
       "      <th>4</th>\n",
       "      <td>44</td>\n",
       "      <td>31.0</td>\n",
       "    </tr>\n",
       "  </tbody>\n",
       "</table>\n",
       "</div>"
      ],
      "text/plain": [
       "    0     0\n",
       "0  35   NaN\n",
       "1  32  35.0\n",
       "2  30  32.0\n",
       "3  31  30.0\n",
       "4  44  31.0"
      ]
     },
     "execution_count": 13,
     "metadata": {},
     "output_type": "execute_result"
    }
   ],
   "source": [
    "birth_df.head()"
   ]
  },
  {
   "cell_type": "code",
   "execution_count": 14,
   "id": "5ca8a2ae",
   "metadata": {},
   "outputs": [],
   "source": [
    "birth_df.columns = ['Actual_birth','Forecast_birth']"
   ]
  },
  {
   "cell_type": "code",
   "execution_count": 15,
   "id": "c6978d03",
   "metadata": {},
   "outputs": [
    {
     "data": {
      "text/html": [
       "<div>\n",
       "<style scoped>\n",
       "    .dataframe tbody tr th:only-of-type {\n",
       "        vertical-align: middle;\n",
       "    }\n",
       "\n",
       "    .dataframe tbody tr th {\n",
       "        vertical-align: top;\n",
       "    }\n",
       "\n",
       "    .dataframe thead th {\n",
       "        text-align: right;\n",
       "    }\n",
       "</style>\n",
       "<table border=\"1\" class=\"dataframe\">\n",
       "  <thead>\n",
       "    <tr style=\"text-align: right;\">\n",
       "      <th></th>\n",
       "      <th>Actual_birth</th>\n",
       "      <th>Forecast_birth</th>\n",
       "    </tr>\n",
       "  </thead>\n",
       "  <tbody>\n",
       "    <tr>\n",
       "      <th>0</th>\n",
       "      <td>35</td>\n",
       "      <td>NaN</td>\n",
       "    </tr>\n",
       "    <tr>\n",
       "      <th>1</th>\n",
       "      <td>32</td>\n",
       "      <td>35.0</td>\n",
       "    </tr>\n",
       "    <tr>\n",
       "      <th>2</th>\n",
       "      <td>30</td>\n",
       "      <td>32.0</td>\n",
       "    </tr>\n",
       "    <tr>\n",
       "      <th>3</th>\n",
       "      <td>31</td>\n",
       "      <td>30.0</td>\n",
       "    </tr>\n",
       "    <tr>\n",
       "      <th>4</th>\n",
       "      <td>44</td>\n",
       "      <td>31.0</td>\n",
       "    </tr>\n",
       "  </tbody>\n",
       "</table>\n",
       "</div>"
      ],
      "text/plain": [
       "   Actual_birth  Forecast_birth\n",
       "0            35             NaN\n",
       "1            32            35.0\n",
       "2            30            32.0\n",
       "3            31            30.0\n",
       "4            44            31.0"
      ]
     },
     "execution_count": 15,
     "metadata": {},
     "output_type": "execute_result"
    }
   ],
   "source": [
    "birth_df.head()"
   ]
  },
  {
   "cell_type": "markdown",
   "id": "5e4f14d0",
   "metadata": {},
   "source": [
    "# compare mse with sd"
   ]
  },
  {
   "cell_type": "code",
   "execution_count": 16,
   "id": "2dc71208",
   "metadata": {},
   "outputs": [],
   "source": [
    "from sklearn.metrics import mean_squared_error\n",
    "import numpy as np"
   ]
  },
  {
   "cell_type": "code",
   "execution_count": 17,
   "id": "2f1c55ad",
   "metadata": {},
   "outputs": [
    {
     "data": {
      "text/html": [
       "<div>\n",
       "<style scoped>\n",
       "    .dataframe tbody tr th:only-of-type {\n",
       "        vertical-align: middle;\n",
       "    }\n",
       "\n",
       "    .dataframe tbody tr th {\n",
       "        vertical-align: top;\n",
       "    }\n",
       "\n",
       "    .dataframe thead th {\n",
       "        text-align: right;\n",
       "    }\n",
       "</style>\n",
       "<table border=\"1\" class=\"dataframe\">\n",
       "  <thead>\n",
       "    <tr style=\"text-align: right;\">\n",
       "      <th></th>\n",
       "      <th>Actual_birth</th>\n",
       "      <th>Forecast_birth</th>\n",
       "    </tr>\n",
       "  </thead>\n",
       "  <tbody>\n",
       "    <tr>\n",
       "      <th>360</th>\n",
       "      <td>37</td>\n",
       "      <td>34.0</td>\n",
       "    </tr>\n",
       "    <tr>\n",
       "      <th>361</th>\n",
       "      <td>52</td>\n",
       "      <td>37.0</td>\n",
       "    </tr>\n",
       "    <tr>\n",
       "      <th>362</th>\n",
       "      <td>48</td>\n",
       "      <td>52.0</td>\n",
       "    </tr>\n",
       "    <tr>\n",
       "      <th>363</th>\n",
       "      <td>55</td>\n",
       "      <td>48.0</td>\n",
       "    </tr>\n",
       "    <tr>\n",
       "      <th>364</th>\n",
       "      <td>50</td>\n",
       "      <td>55.0</td>\n",
       "    </tr>\n",
       "  </tbody>\n",
       "</table>\n",
       "</div>"
      ],
      "text/plain": [
       "     Actual_birth  Forecast_birth\n",
       "360            37            34.0\n",
       "361            52            37.0\n",
       "362            48            52.0\n",
       "363            55            48.0\n",
       "364            50            55.0"
      ]
     },
     "execution_count": 17,
     "metadata": {},
     "output_type": "execute_result"
    }
   ],
   "source": [
    "birth_test = birth_df[1:]\n",
    "birth_test.tail()"
   ]
  },
  {
   "cell_type": "code",
   "execution_count": 18,
   "id": "903e34e8",
   "metadata": {},
   "outputs": [],
   "source": [
    "birth_error = mean_squared_error(birth_test.Actual_birth, birth_test.Forecast_birth)"
   ]
  },
  {
   "cell_type": "code",
   "execution_count": 19,
   "id": "90cc177d",
   "metadata": {},
   "outputs": [
    {
     "data": {
      "text/plain": [
       "9.177283229394606"
      ]
     },
     "execution_count": 19,
     "metadata": {},
     "output_type": "execute_result"
    }
   ],
   "source": [
    "np.sqrt(birth_error)"
   ]
  },
  {
   "cell_type": "markdown",
   "id": "f4a2a385",
   "metadata": {},
   "source": [
    "# ARIMA model (p,d,q)"
   ]
  },
  {
   "cell_type": "code",
   "execution_count": 20,
   "id": "33db66e3",
   "metadata": {},
   "outputs": [],
   "source": [
    "from statsmodels.graphics.tsaplots import plot_acf,plot_pacf"
   ]
  },
  {
   "cell_type": "code",
   "execution_count": 21,
   "id": "eacca3f9",
   "metadata": {},
   "outputs": [
    {
     "data": {
      "image/png": "[encoded data removed]",
      "text/plain": [
       "<Figure size 432x288 with 1 Axes>"
      ]
     },
     "execution_count": 21,
     "metadata": {},
     "output_type": "execute_result"
    },
    {
     "data": {
      "image/png": "[encoded data removed]",
      "text/plain": [
       "<Figure size 432x288 with 1 Axes>"
      ]
     },
     "metadata": {
      "needs_background": "light"
     },
     "output_type": "display_data"
    }
   ],
   "source": [
    "#plot_acf is to identify Q\n",
    "#d=0, if original graph is already stationary\n",
    "plot_acf(f_birth)"
   ]
  },
  {
   "cell_type": "code",
   "execution_count": 22,
   "id": "919d9717",
   "metadata": {},
   "outputs": [
    {
     "name": "stderr",
     "output_type": "stream",
     "text": [
      "/Users/channathan/opt/miniconda3/lib/python3.9/site-packages/statsmodels/graphics/tsaplots.py:348: FutureWarning: The default method 'yw' can produce PACF values outside of the [-1,1] interval. After 0.13, the default will change tounadjusted Yule-Walker ('ywm'). You can use this method now by setting method='ywm'.\n",
      "  warnings.warn(\n"
     ]
    },
    {
     "data": {
      "image/png": "[encoded data removed]",
      "text/plain": [
       "<Figure size 432x288 with 1 Axes>"
      ]
     },
     "execution_count": 22,
     "metadata": {},
     "output_type": "execute_result"
    },
    {
     "data": {
      "image/png": "[encoded data removed]",
      "text/plain": [
       "<Figure size 432x288 with 1 Axes>"
      ]
     },
     "metadata": {
      "needs_background": "light"
     },
     "output_type": "display_data"
    }
   ],
   "source": [
    "plot_pacf(f_birth)"
   ]
  },
  {
   "cell_type": "code",
   "execution_count": 23,
   "id": "9fc04d24",
   "metadata": {},
   "outputs": [],
   "source": [
    "birth_train = f_birth[:330]\n",
    "birth_test = f_birth[330:]"
   ]
  },
  {
   "cell_type": "code",
   "execution_count": 24,
   "id": "10ac9167",
   "metadata": {},
   "outputs": [],
   "source": [
    "from statsmodels.tsa.arima.model import ARIMA"
   ]
  },
  {
   "cell_type": "code",
   "execution_count": 25,
   "id": "2a23cdad",
   "metadata": {},
   "outputs": [
    {
     "name": "stderr",
     "output_type": "stream",
     "text": [
      "/Users/channathan/opt/miniconda3/lib/python3.9/site-packages/statsmodels/tsa/base/tsa_model.py:536: ValueWarning: No frequency information was provided, so inferred frequency D will be used.\n",
      "  warnings.warn('No frequency information was'\n",
      "/Users/channathan/opt/miniconda3/lib/python3.9/site-packages/statsmodels/tsa/base/tsa_model.py:536: ValueWarning: No frequency information was provided, so inferred frequency D will be used.\n",
      "  warnings.warn('No frequency information was'\n",
      "/Users/channathan/opt/miniconda3/lib/python3.9/site-packages/statsmodels/tsa/base/tsa_model.py:536: ValueWarning: No frequency information was provided, so inferred frequency D will be used.\n",
      "  warnings.warn('No frequency information was'\n"
     ]
    }
   ],
   "source": [
    "birth_model = ARIMA(birth_train,order=(2,0,3))"
   ]
  },
  {
   "cell_type": "code",
   "execution_count": 26,
   "id": "33b3a380",
   "metadata": {},
   "outputs": [
    {
     "name": "stderr",
     "output_type": "stream",
     "text": [
      "/Users/channathan/opt/miniconda3/lib/python3.9/site-packages/statsmodels/tsa/statespace/sarimax.py:966: UserWarning: Non-stationary starting autoregressive parameters found. Using zeros as starting parameters.\n",
      "  warn('Non-stationary starting autoregressive parameters'\n"
     ]
    }
   ],
   "source": [
    "birth_model_fit = birth_model.fit() # fit the model"
   ]
  },
  {
   "cell_type": "code",
   "execution_count": 27,
   "id": "4e90bbce",
   "metadata": {},
   "outputs": [
    {
     "data": {
      "text/plain": [
       "2256.9899897675714"
      ]
     },
     "execution_count": 27,
     "metadata": {},
     "output_type": "execute_result"
    }
   ],
   "source": [
    "#smaller = better for aic\n",
    "birth_model_fit.aic"
   ]
  },
  {
   "cell_type": "code",
   "execution_count": 28,
   "id": "c9bcfe25",
   "metadata": {},
   "outputs": [],
   "source": [
    "birth_forecast = birth_model_fit.forecast(steps = 35)"
   ]
  },
  {
   "cell_type": "code",
   "execution_count": 29,
   "id": "cfc2f6c8",
   "metadata": {},
   "outputs": [
    {
     "data": {
      "text/plain": [
       "1959-11-27    42.831477\n",
       "1959-11-28    41.959433\n",
       "1959-11-29    41.768058\n",
       "1959-11-30    41.954189\n",
       "1959-12-01    41.773158\n",
       "1959-12-02    41.949229\n",
       "1959-12-03    41.777982\n",
       "1959-12-04    41.944537\n",
       "1959-12-05    41.782546\n",
       "1959-12-06    41.940098\n",
       "1959-12-07    41.786863\n",
       "1959-12-08    41.935899\n",
       "1959-12-09    41.790946\n",
       "1959-12-10    41.931928\n",
       "1959-12-11    41.794809\n",
       "1959-12-12    41.928171\n",
       "1959-12-13    41.798463\n",
       "1959-12-14    41.924617\n",
       "1959-12-15    41.801920\n",
       "1959-12-16    41.921255\n",
       "1959-12-17    41.805190\n",
       "1959-12-18    41.918075\n",
       "1959-12-19    41.808283\n",
       "1959-12-20    41.915066\n",
       "1959-12-21    41.811209\n",
       "1959-12-22    41.912221\n",
       "1959-12-23    41.813976\n",
       "1959-12-24    41.909529\n",
       "1959-12-25    41.816595\n",
       "1959-12-26    41.906982\n",
       "1959-12-27    41.819071\n",
       "1959-12-28    41.904574\n",
       "1959-12-29    41.821414\n",
       "1959-12-30    41.902295\n",
       "1959-12-31    41.823630\n",
       "Freq: D, Name: predicted_mean, dtype: float64"
      ]
     },
     "execution_count": 29,
     "metadata": {},
     "output_type": "execute_result"
    }
   ],
   "source": [
    "birth_forecast"
   ]
  },
  {
   "cell_type": "markdown",
   "id": "5ce6b87c",
   "metadata": {},
   "source": [
    "# now check predicted value with test value"
   ]
  },
  {
   "cell_type": "code",
   "execution_count": 30,
   "id": "60754304",
   "metadata": {},
   "outputs": [
    {
     "data": {
      "text/plain": [
       "6.594508066437434"
      ]
     },
     "execution_count": 30,
     "metadata": {},
     "output_type": "execute_result"
    }
   ],
   "source": [
    "np.sqrt(mean_squared_error(birth_test,birth_forecast))"
   ]
  },
  {
   "cell_type": "code",
   "execution_count": 31,
   "id": "ebb13664",
   "metadata": {},
   "outputs": [
    {
     "data": {
      "text/plain": [
       "Births    7.348257\n",
       "dtype: float64"
      ]
     },
     "execution_count": 31,
     "metadata": {},
     "output_type": "execute_result"
    }
   ],
   "source": [
    "f_birth.std()"
   ]
  },
  {
   "cell_type": "markdown",
   "id": "a5c6b611",
   "metadata": {},
   "source": [
    "# normalisation \n",
    "# if your data is on different scales\n",
    "# because some algorithms work better when data is normalised"
   ]
  },
  {
   "cell_type": "markdown",
   "id": "272c9b96",
   "metadata": {},
   "source": [
    "# normalization = (x-min)/(max-min)"
   ]
  },
  {
   "cell_type": "code",
   "execution_count": 32,
   "id": "70f86835",
   "metadata": {},
   "outputs": [],
   "source": [
    "from sklearn.preprocessing import MinMaxScaler"
   ]
  },
  {
   "cell_type": "code",
   "execution_count": 33,
   "id": "9bc10a6e",
   "metadata": {},
   "outputs": [],
   "source": [
    "birth_arr = f_birth.values"
   ]
  },
  {
   "cell_type": "code",
   "execution_count": 34,
   "id": "6c62f9f1",
   "metadata": {},
   "outputs": [
    {
     "data": {
      "text/plain": [
       "array([[35],\n",
       "       [32],\n",
       "       [30],\n",
       "       [31],\n",
       "       [44],\n",
       "       [29],\n",
       "       [45],\n",
       "       [43],\n",
       "       [38],\n",
       "       [27],\n",
       "       [38],\n",
       "       [33],\n",
       "       [55],\n",
       "       [47],\n",
       "       [45],\n",
       "       [37],\n",
       "       [50],\n",
       "       [43],\n",
       "       [41],\n",
       "       [52],\n",
       "       [34],\n",
       "       [53],\n",
       "       [39],\n",
       "       [32],\n",
       "       [37],\n",
       "       [43],\n",
       "       [39],\n",
       "       [35],\n",
       "       [44],\n",
       "       [38],\n",
       "       [24],\n",
       "       [23],\n",
       "       [31],\n",
       "       [44],\n",
       "       [38],\n",
       "       [50],\n",
       "       [38],\n",
       "       [51],\n",
       "       [31],\n",
       "       [31],\n",
       "       [51],\n",
       "       [36],\n",
       "       [45],\n",
       "       [51],\n",
       "       [34],\n",
       "       [52],\n",
       "       [47],\n",
       "       [45],\n",
       "       [46],\n",
       "       [39],\n",
       "       [48],\n",
       "       [37],\n",
       "       [35],\n",
       "       [52],\n",
       "       [42],\n",
       "       [45],\n",
       "       [39],\n",
       "       [37],\n",
       "       [30],\n",
       "       [35],\n",
       "       [28],\n",
       "       [45],\n",
       "       [34],\n",
       "       [36],\n",
       "       [50],\n",
       "       [44],\n",
       "       [39],\n",
       "       [32],\n",
       "       [39],\n",
       "       [45],\n",
       "       [43],\n",
       "       [39],\n",
       "       [31],\n",
       "       [27],\n",
       "       [30],\n",
       "       [42],\n",
       "       [46],\n",
       "       [41],\n",
       "       [36],\n",
       "       [45],\n",
       "       [46],\n",
       "       [43],\n",
       "       [38],\n",
       "       [34],\n",
       "       [35],\n",
       "       [56],\n",
       "       [36],\n",
       "       [32],\n",
       "       [50],\n",
       "       [41],\n",
       "       [39],\n",
       "       [41],\n",
       "       [47],\n",
       "       [34],\n",
       "       [36],\n",
       "       [33],\n",
       "       [35],\n",
       "       [38],\n",
       "       [38],\n",
       "       [34],\n",
       "       [53],\n",
       "       [34],\n",
       "       [34],\n",
       "       [38],\n",
       "       [35],\n",
       "       [32],\n",
       "       [42],\n",
       "       [34],\n",
       "       [46],\n",
       "       [30],\n",
       "       [46],\n",
       "       [45],\n",
       "       [54],\n",
       "       [34],\n",
       "       [37],\n",
       "       [35],\n",
       "       [40],\n",
       "       [42],\n",
       "       [58],\n",
       "       [51],\n",
       "       [32],\n",
       "       [35],\n",
       "       [38],\n",
       "       [33],\n",
       "       [39],\n",
       "       [47],\n",
       "       [38],\n",
       "       [52],\n",
       "       [30],\n",
       "       [34],\n",
       "       [40],\n",
       "       [35],\n",
       "       [42],\n",
       "       [41],\n",
       "       [42],\n",
       "       [38],\n",
       "       [24],\n",
       "       [34],\n",
       "       [43],\n",
       "       [36],\n",
       "       [55],\n",
       "       [41],\n",
       "       [45],\n",
       "       [41],\n",
       "       [37],\n",
       "       [43],\n",
       "       [39],\n",
       "       [33],\n",
       "       [43],\n",
       "       [40],\n",
       "       [38],\n",
       "       [45],\n",
       "       [46],\n",
       "       [34],\n",
       "       [35],\n",
       "       [48],\n",
       "       [51],\n",
       "       [36],\n",
       "       [33],\n",
       "       [46],\n",
       "       [42],\n",
       "       [48],\n",
       "       [34],\n",
       "       [41],\n",
       "       [35],\n",
       "       [40],\n",
       "       [34],\n",
       "       [30],\n",
       "       [36],\n",
       "       [40],\n",
       "       [39],\n",
       "       [45],\n",
       "       [38],\n",
       "       [47],\n",
       "       [33],\n",
       "       [30],\n",
       "       [42],\n",
       "       [43],\n",
       "       [41],\n",
       "       [41],\n",
       "       [59],\n",
       "       [43],\n",
       "       [45],\n",
       "       [38],\n",
       "       [37],\n",
       "       [45],\n",
       "       [42],\n",
       "       [57],\n",
       "       [46],\n",
       "       [51],\n",
       "       [41],\n",
       "       [47],\n",
       "       [26],\n",
       "       [35],\n",
       "       [44],\n",
       "       [41],\n",
       "       [42],\n",
       "       [36],\n",
       "       [45],\n",
       "       [45],\n",
       "       [45],\n",
       "       [47],\n",
       "       [38],\n",
       "       [42],\n",
       "       [35],\n",
       "       [36],\n",
       "       [39],\n",
       "       [45],\n",
       "       [43],\n",
       "       [47],\n",
       "       [36],\n",
       "       [41],\n",
       "       [50],\n",
       "       [39],\n",
       "       [41],\n",
       "       [46],\n",
       "       [64],\n",
       "       [45],\n",
       "       [34],\n",
       "       [38],\n",
       "       [44],\n",
       "       [48],\n",
       "       [46],\n",
       "       [44],\n",
       "       [37],\n",
       "       [39],\n",
       "       [44],\n",
       "       [45],\n",
       "       [33],\n",
       "       [44],\n",
       "       [38],\n",
       "       [46],\n",
       "       [46],\n",
       "       [40],\n",
       "       [39],\n",
       "       [44],\n",
       "       [48],\n",
       "       [50],\n",
       "       [41],\n",
       "       [42],\n",
       "       [51],\n",
       "       [41],\n",
       "       [44],\n",
       "       [38],\n",
       "       [68],\n",
       "       [40],\n",
       "       [42],\n",
       "       [51],\n",
       "       [44],\n",
       "       [45],\n",
       "       [36],\n",
       "       [57],\n",
       "       [44],\n",
       "       [42],\n",
       "       [53],\n",
       "       [42],\n",
       "       [34],\n",
       "       [40],\n",
       "       [56],\n",
       "       [44],\n",
       "       [53],\n",
       "       [55],\n",
       "       [39],\n",
       "       [59],\n",
       "       [55],\n",
       "       [73],\n",
       "       [55],\n",
       "       [44],\n",
       "       [43],\n",
       "       [40],\n",
       "       [47],\n",
       "       [51],\n",
       "       [56],\n",
       "       [49],\n",
       "       [54],\n",
       "       [56],\n",
       "       [47],\n",
       "       [44],\n",
       "       [43],\n",
       "       [42],\n",
       "       [45],\n",
       "       [50],\n",
       "       [48],\n",
       "       [43],\n",
       "       [40],\n",
       "       [59],\n",
       "       [41],\n",
       "       [42],\n",
       "       [51],\n",
       "       [49],\n",
       "       [45],\n",
       "       [43],\n",
       "       [42],\n",
       "       [38],\n",
       "       [47],\n",
       "       [38],\n",
       "       [36],\n",
       "       [42],\n",
       "       [35],\n",
       "       [28],\n",
       "       [44],\n",
       "       [36],\n",
       "       [45],\n",
       "       [46],\n",
       "       [48],\n",
       "       [49],\n",
       "       [43],\n",
       "       [42],\n",
       "       [59],\n",
       "       [45],\n",
       "       [52],\n",
       "       [46],\n",
       "       [42],\n",
       "       [40],\n",
       "       [40],\n",
       "       [45],\n",
       "       [35],\n",
       "       [35],\n",
       "       [40],\n",
       "       [39],\n",
       "       [33],\n",
       "       [42],\n",
       "       [47],\n",
       "       [51],\n",
       "       [44],\n",
       "       [40],\n",
       "       [57],\n",
       "       [49],\n",
       "       [45],\n",
       "       [49],\n",
       "       [51],\n",
       "       [46],\n",
       "       [44],\n",
       "       [52],\n",
       "       [45],\n",
       "       [32],\n",
       "       [46],\n",
       "       [41],\n",
       "       [34],\n",
       "       [33],\n",
       "       [36],\n",
       "       [49],\n",
       "       [43],\n",
       "       [43],\n",
       "       [34],\n",
       "       [39],\n",
       "       [35],\n",
       "       [52],\n",
       "       [47],\n",
       "       [52],\n",
       "       [39],\n",
       "       [40],\n",
       "       [42],\n",
       "       [42],\n",
       "       [53],\n",
       "       [39],\n",
       "       [40],\n",
       "       [38],\n",
       "       [44],\n",
       "       [34],\n",
       "       [37],\n",
       "       [52],\n",
       "       [48],\n",
       "       [55],\n",
       "       [50]])"
      ]
     },
     "execution_count": 34,
     "metadata": {},
     "output_type": "execute_result"
    }
   ],
   "source": [
    "birth_arr"
   ]
  },
  {
   "cell_type": "code",
   "execution_count": 35,
   "id": "08dd961e",
   "metadata": {},
   "outputs": [],
   "source": [
    "scaler = MinMaxScaler(feature_range=(0,1))"
   ]
  },
  {
   "cell_type": "code",
   "execution_count": 36,
   "id": "845134bf",
   "metadata": {},
   "outputs": [],
   "source": [
    "scaler = scaler.fit(birth_arr)"
   ]
  },
  {
   "cell_type": "code",
   "execution_count": 37,
   "id": "a0ba40e7",
   "metadata": {},
   "outputs": [
    {
     "data": {
      "text/plain": [
       "array([23.])"
      ]
     },
     "execution_count": 37,
     "metadata": {},
     "output_type": "execute_result"
    }
   ],
   "source": [
    "scaler.data_min_"
   ]
  },
  {
   "cell_type": "code",
   "execution_count": 38,
   "id": "29627d50",
   "metadata": {},
   "outputs": [
    {
     "data": {
      "text/plain": [
       "array([73.])"
      ]
     },
     "execution_count": 38,
     "metadata": {},
     "output_type": "execute_result"
    }
   ],
   "source": [
    "scaler.data_max_"
   ]
  },
  {
   "cell_type": "code",
   "execution_count": 39,
   "id": "068ba7e4",
   "metadata": {},
   "outputs": [],
   "source": [
    "birth_normalise = scaler.transform(birth_arr)"
   ]
  },
  {
   "cell_type": "code",
   "execution_count": 40,
   "id": "c948e997",
   "metadata": {},
   "outputs": [
    {
     "name": "stdout",
     "output_type": "stream",
     "text": [
      "[0.24]\n",
      "[0.18]\n",
      "[0.14]\n",
      "[0.16]\n",
      "[0.42]\n"
     ]
    }
   ],
   "source": [
    "for i in range(5):\n",
    "    print(birth_normalise[i])"
   ]
  },
  {
   "cell_type": "code",
   "execution_count": 41,
   "id": "8948d14f",
   "metadata": {},
   "outputs": [],
   "source": [
    "birth_trainprime=birth_normalise[:330]\n",
    "birth_testprime=birth_normalise[330:]"
   ]
  },
  {
   "cell_type": "code",
   "execution_count": 42,
   "id": "1e550c4e",
   "metadata": {},
   "outputs": [
    {
     "name": "stderr",
     "output_type": "stream",
     "text": [
      "/Users/channathan/opt/miniconda3/lib/python3.9/site-packages/statsmodels/tsa/statespace/sarimax.py:966: UserWarning: Non-stationary starting autoregressive parameters found. Using zeros as starting parameters.\n",
      "  warn('Non-stationary starting autoregressive parameters'\n",
      "/Users/channathan/opt/miniconda3/lib/python3.9/site-packages/statsmodels/tsa/statespace/sarimax.py:978: UserWarning: Non-invertible starting MA parameters found. Using zeros as starting parameters.\n",
      "  warn('Non-invertible starting MA parameters found.'\n"
     ]
    }
   ],
   "source": [
    "birth_model = ARIMA(birth_trainprime,order=(2,1,2))\n",
    "birth_model_fit = birth_model.fit()"
   ]
  },
  {
   "cell_type": "code",
   "execution_count": 43,
   "id": "6f1ac49b",
   "metadata": {},
   "outputs": [
    {
     "data": {
      "text/plain": [
       "-342.6257507794405"
      ]
     },
     "execution_count": 43,
     "metadata": {},
     "output_type": "execute_result"
    }
   ],
   "source": [
    "birth_model_fit.aic"
   ]
  },
  {
   "cell_type": "code",
   "execution_count": 44,
   "id": "fb228f88",
   "metadata": {},
   "outputs": [],
   "source": [
    "birth_forecastprime = birth_model_fit.forecast(steps = 35)"
   ]
  },
  {
   "cell_type": "code",
   "execution_count": 45,
   "id": "ccc01f71",
   "metadata": {},
   "outputs": [
    {
     "data": {
      "text/plain": [
       "0.13332527073273182"
      ]
     },
     "execution_count": 45,
     "metadata": {},
     "output_type": "execute_result"
    }
   ],
   "source": [
    "np.sqrt(mean_squared_error(birth_testprime,birth_forecastprime))"
   ]
  },
  {
   "cell_type": "markdown",
   "id": "43b3fdef",
   "metadata": {},
   "source": [
    "# undo normalisation"
   ]
  },
  {
   "cell_type": "code",
   "execution_count": 46,
   "id": "a90b5a9a",
   "metadata": {},
   "outputs": [],
   "source": [
    "birth_forecast_reshape = birth_forecastprime.reshape(len(birth_forecast),1)"
   ]
  },
  {
   "cell_type": "code",
   "execution_count": 47,
   "id": "a6eef209",
   "metadata": {},
   "outputs": [],
   "source": [
    "birth_forecast_reverse = scaler.inverse_transform(birth_forecast_reshape)"
   ]
  },
  {
   "cell_type": "code",
   "execution_count": 48,
   "id": "e6f60f6e",
   "metadata": {},
   "outputs": [
    {
     "data": {
      "text/plain": [
       "array([[45.05389122],\n",
       "       [44.76031839],\n",
       "       [44.57831755],\n",
       "       [44.51976836],\n",
       "       [44.49872547],\n",
       "       [44.49133559],\n",
       "       [44.48872825],\n",
       "       [44.48780919],\n",
       "       [44.48748517],\n",
       "       [44.48737094],\n",
       "       [44.48733067],\n",
       "       [44.48731647],\n",
       "       [44.48731146],\n",
       "       [44.4873097 ],\n",
       "       [44.48730908],\n",
       "       [44.48730886],\n",
       "       [44.48730878],\n",
       "       [44.48730875],\n",
       "       [44.48730874],\n",
       "       [44.48730874],\n",
       "       [44.48730874],\n",
       "       [44.48730874],\n",
       "       [44.48730874],\n",
       "       [44.48730874],\n",
       "       [44.48730874],\n",
       "       [44.48730874],\n",
       "       [44.48730874],\n",
       "       [44.48730874],\n",
       "       [44.48730874],\n",
       "       [44.48730874],\n",
       "       [44.48730874],\n",
       "       [44.48730874],\n",
       "       [44.48730874],\n",
       "       [44.48730874],\n",
       "       [44.48730874]])"
      ]
     },
     "execution_count": 48,
     "metadata": {},
     "output_type": "execute_result"
    }
   ],
   "source": [
    "birth_forecast_reverse"
   ]
  },
  {
   "cell_type": "code",
   "execution_count": 49,
   "id": "704da7b8",
   "metadata": {},
   "outputs": [],
   "source": [
    "birth_test_reshape = birth_testprime.reshape(len(birth_test),1)"
   ]
  },
  {
   "cell_type": "code",
   "execution_count": 50,
   "id": "139c4a9b",
   "metadata": {},
   "outputs": [],
   "source": [
    "birth_test_reverse = scaler.inverse_transform(birth_test_reshape)"
   ]
  },
  {
   "cell_type": "code",
   "execution_count": 51,
   "id": "ed9b71fa",
   "metadata": {},
   "outputs": [
    {
     "data": {
      "text/plain": [
       "6.666263536636591"
      ]
     },
     "execution_count": 51,
     "metadata": {},
     "output_type": "execute_result"
    }
   ],
   "source": [
    "np.sqrt(mean_squared_error(birth_test_reverse,birth_forecast_reverse))"
   ]
  },
  {
   "cell_type": "code",
   "execution_count": 52,
   "id": "dac49420",
   "metadata": {},
   "outputs": [
    {
     "data": {
      "text/plain": [
       "Births    7.348257\n",
       "dtype: float64"
      ]
     },
     "execution_count": 52,
     "metadata": {},
     "output_type": "execute_result"
    }
   ],
   "source": [
    "f_birth.std()"
   ]
  },
  {
   "cell_type": "code",
   "execution_count": 53,
   "id": "c16175ff",
   "metadata": {},
   "outputs": [],
   "source": [
    " from sklearn.preprocessing import StandardScaler"
   ]
  },
  {
   "cell_type": "code",
   "execution_count": 54,
   "id": "8bf6b802",
   "metadata": {},
   "outputs": [],
   "source": [
    "std_scaler = StandardScaler()\n",
    "std_scaler = std_scaler.fit(f_birth)"
   ]
  },
  {
   "cell_type": "code",
   "execution_count": 55,
   "id": "a00e958b",
   "metadata": {},
   "outputs": [
    {
     "data": {
      "text/plain": [
       "array([41.98082192])"
      ]
     },
     "execution_count": 55,
     "metadata": {},
     "output_type": "execute_result"
    }
   ],
   "source": [
    "std_scaler.mean_"
   ]
  },
  {
   "cell_type": "code",
   "execution_count": 56,
   "id": "2ceba97d",
   "metadata": {},
   "outputs": [],
   "source": [
    "std_birth = std_scaler.transform(birth_arr)"
   ]
  },
  {
   "cell_type": "code",
   "execution_count": 57,
   "id": "511b9a93",
   "metadata": {},
   "outputs": [
    {
     "data": {
      "text/plain": [
       "array([-0.95130099])"
      ]
     },
     "execution_count": 57,
     "metadata": {},
     "output_type": "execute_result"
    }
   ],
   "source": [
    "std_birth[0]"
   ]
  },
  {
   "cell_type": "code",
   "execution_count": 58,
   "id": "6610ff61",
   "metadata": {},
   "outputs": [],
   "source": [
    "std_birth_train = std_birth[0:330]\n",
    "std_birth_test = std_birth[330:365]"
   ]
  },
  {
   "cell_type": "code",
   "execution_count": 59,
   "id": "ad621a16",
   "metadata": {},
   "outputs": [],
   "source": [
    "std_birth_arima = ARIMA(std_birth_train,order = (2,1,2))"
   ]
  },
  {
   "cell_type": "code",
   "execution_count": 60,
   "id": "12e8707d",
   "metadata": {},
   "outputs": [
    {
     "name": "stderr",
     "output_type": "stream",
     "text": [
      "/Users/channathan/opt/miniconda3/lib/python3.9/site-packages/statsmodels/tsa/statespace/sarimax.py:966: UserWarning: Non-stationary starting autoregressive parameters found. Using zeros as starting parameters.\n",
      "  warn('Non-stationary starting autoregressive parameters'\n",
      "/Users/channathan/opt/miniconda3/lib/python3.9/site-packages/statsmodels/tsa/statespace/sarimax.py:978: UserWarning: Non-invertible starting MA parameters found. Using zeros as starting parameters.\n",
      "  warn('Non-invertible starting MA parameters found.'\n"
     ]
    }
   ],
   "source": [
    "std_birth_arima_fit = std_birth_arima.fit()"
   ]
  },
  {
   "cell_type": "code",
   "execution_count": 61,
   "id": "1ad94ba9",
   "metadata": {},
   "outputs": [
    {
     "data": {
      "text/plain": [
       "920.0312434620496"
      ]
     },
     "execution_count": 61,
     "metadata": {},
     "output_type": "execute_result"
    }
   ],
   "source": [
    "std_birth_arima_fit.aic"
   ]
  },
  {
   "cell_type": "code",
   "execution_count": 62,
   "id": "68be34f4",
   "metadata": {},
   "outputs": [],
   "source": [
    "std_birth_forecast = std_birth_arima_fit.forecast(steps=35)"
   ]
  },
  {
   "cell_type": "code",
   "execution_count": 63,
   "id": "f6f4a8af",
   "metadata": {},
   "outputs": [
    {
     "data": {
      "text/plain": [
       "array([0.41873248, 0.37870096, 0.35392789, 0.34596192, 0.34310105,\n",
       "       0.34209702, 0.34174302, 0.34161832, 0.34157439, 0.34155891,\n",
       "       0.34155345, 0.34155153, 0.34155086, 0.34155062, 0.34155053,\n",
       "       0.3415505 , 0.34155049, 0.34155049, 0.34155049, 0.34155049,\n",
       "       0.34155049, 0.34155049, 0.34155049, 0.34155049, 0.34155049,\n",
       "       0.34155049, 0.34155049, 0.34155049, 0.34155049, 0.34155049,\n",
       "       0.34155049, 0.34155049, 0.34155049, 0.34155049, 0.34155049])"
      ]
     },
     "execution_count": 63,
     "metadata": {},
     "output_type": "execute_result"
    }
   ],
   "source": [
    "std_birth_forecast"
   ]
  },
  {
   "cell_type": "code",
   "execution_count": 64,
   "id": "0f44aa0e",
   "metadata": {},
   "outputs": [],
   "source": [
    "birth_forecast_reshape = std_birth_forecast.reshape(len(std_birth_forecast),1)"
   ]
  },
  {
   "cell_type": "code",
   "execution_count": 65,
   "id": "b5e09b40",
   "metadata": {},
   "outputs": [],
   "source": [
    "birth_forecast_rev = std_scaler.inverse_transform(birth_forecast_reshape)"
   ]
  },
  {
   "cell_type": "code",
   "execution_count": 66,
   "id": "08a707d3",
   "metadata": {},
   "outputs": [],
   "source": [
    "birth_test_reshape = std_birth_test.reshape(len(std_birth_test),1)"
   ]
  },
  {
   "cell_type": "code",
   "execution_count": 67,
   "id": "6218b9b2",
   "metadata": {},
   "outputs": [],
   "source": [
    "birth_test_rev = std_scaler.inverse_transform(birth_test_reshape)"
   ]
  },
  {
   "cell_type": "code",
   "execution_count": 68,
   "id": "f5bf1ed3",
   "metadata": {},
   "outputs": [
    {
     "data": {
      "text/plain": [
       "array([[51.],\n",
       "       [46.],\n",
       "       [44.],\n",
       "       [52.],\n",
       "       [45.],\n",
       "       [32.],\n",
       "       [46.],\n",
       "       [41.],\n",
       "       [34.],\n",
       "       [33.],\n",
       "       [36.],\n",
       "       [49.],\n",
       "       [43.],\n",
       "       [43.],\n",
       "       [34.],\n",
       "       [39.],\n",
       "       [35.],\n",
       "       [52.],\n",
       "       [47.],\n",
       "       [52.],\n",
       "       [39.],\n",
       "       [40.],\n",
       "       [42.],\n",
       "       [42.],\n",
       "       [53.],\n",
       "       [39.],\n",
       "       [40.],\n",
       "       [38.],\n",
       "       [44.],\n",
       "       [34.],\n",
       "       [37.],\n",
       "       [52.],\n",
       "       [48.],\n",
       "       [55.],\n",
       "       [50.]])"
      ]
     },
     "execution_count": 68,
     "metadata": {},
     "output_type": "execute_result"
    }
   ],
   "source": [
    "birth_test_rev"
   ]
  },
  {
   "cell_type": "code",
   "execution_count": 69,
   "id": "cb435236",
   "metadata": {},
   "outputs": [
    {
     "data": {
      "text/plain": [
       "6.666244745251197"
      ]
     },
     "execution_count": 69,
     "metadata": {},
     "output_type": "execute_result"
    }
   ],
   "source": [
    "np.sqrt(mean_squared_error(birth_test_rev,birth_forecast_rev))"
   ]
  }
 ],
 "metadata": {
  "kernelspec": {
   "display_name": "Python 3",
   "language": "python",
   "name": "python3"
  },
  "language_info": {
   "codemirror_mode": {
    "name": "ipython",
    "version": 3
   },
   "file_extension": ".py",
   "mimetype": "text/x-python",
   "name": "python",
   "nbconvert_exporter": "python",
   "pygments_lexer": "ipython3",
   "version": "3.9.5"
  }
 },
 "nbformat": 4,
 "nbformat_minor": 5
}

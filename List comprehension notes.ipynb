{
 "cells": [
  {
   "cell_type": "markdown",
   "id": "33d703d4",
   "metadata": {},
   "source": [
    "##For loop\n",
    "new_marks=[]\n",
    "for mark in marks:\n",
    "    mark=mark+10\n",
    "    new_marks.append(mark)"
   ]
  },
  {
   "cell_type": "markdown",
   "id": "901fa08d",
   "metadata": {},
   "source": [
    "##list comprehension\n",
    "[mark+10 for mark in marks]"
   ]
  },
  {
   "cell_type": "markdown",
   "id": "4a87588a",
   "metadata": {},
   "source": [
    "##if conditions\n",
    "[mark+10 for mark in marks if mark<80]\n"
   ]
  },
  {
   "cell_type": "markdown",
   "id": "461f1360",
   "metadata": {},
   "source": [
    "[output_expression for item in collection_of_item]"
   ]
  }
 ],
 "metadata": {
  "kernelspec": {
   "display_name": "Python 3",
   "language": "python",
   "name": "python3"
  },
  "language_info": {
   "codemirror_mode": {
    "name": "ipython",
    "version": 3
   },
   "file_extension": ".py",
   "mimetype": "text/x-python",
   "name": "python",
   "nbconvert_exporter": "python",
   "pygments_lexer": "ipython3",
   "version": "3.9.5"
  }
 },
 "nbformat": 4,
 "nbformat_minor": 5
}

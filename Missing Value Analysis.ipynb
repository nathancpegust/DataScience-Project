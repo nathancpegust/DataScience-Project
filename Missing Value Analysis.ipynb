{
 "cells": [
  {
   "cell_type": "code",
   "execution_count": 1,
   "id": "c130f532",
   "metadata": {},
   "outputs": [],
   "source": [
    "import pandas as pd\n",
    "import numpy as np\n",
    "import matplotlib.pyplot as plt\n",
    "import seaborn as sns\n"
   ]
  },
  {
   "cell_type": "code",
   "execution_count": 2,
   "id": "5f0787af",
   "metadata": {},
   "outputs": [],
   "source": [
    "df=pd.read_csv('train.csv',parse_dates=['date_of_game'])"
   ]
  },
  {
   "cell_type": "code",
   "execution_count": 3,
   "id": "f17b8af4",
   "metadata": {},
   "outputs": [
    {
     "data": {
      "text/html": [
       "<div>\n",
       "<style scoped>\n",
       "    .dataframe tbody tr th:only-of-type {\n",
       "        vertical-align: middle;\n",
       "    }\n",
       "\n",
       "    .dataframe tbody tr th {\n",
       "        vertical-align: top;\n",
       "    }\n",
       "\n",
       "    .dataframe thead th {\n",
       "        text-align: right;\n",
       "    }\n",
       "</style>\n",
       "<table border=\"1\" class=\"dataframe\">\n",
       "  <thead>\n",
       "    <tr style=\"text-align: right;\">\n",
       "      <th></th>\n",
       "      <th>is_goal</th>\n",
       "      <th>match_event_id</th>\n",
       "      <th>location_x</th>\n",
       "      <th>location_y</th>\n",
       "      <th>remaining_min</th>\n",
       "      <th>power_of_shot1</th>\n",
       "      <th>knockout_match2</th>\n",
       "      <th>game_season</th>\n",
       "      <th>remaining_sec1</th>\n",
       "      <th>distance_of_shot1</th>\n",
       "      <th>...</th>\n",
       "      <th>lat_lng</th>\n",
       "      <th>type_of_shot</th>\n",
       "      <th>type_of_combined_shot</th>\n",
       "      <th>match_id</th>\n",
       "      <th>team_id</th>\n",
       "      <th>remaining_min.1</th>\n",
       "      <th>power_of_shot</th>\n",
       "      <th>knockout_match1</th>\n",
       "      <th>remaining_sec2</th>\n",
       "      <th>distance_of_shot2</th>\n",
       "    </tr>\n",
       "  </thead>\n",
       "  <tbody>\n",
       "    <tr>\n",
       "      <th>0</th>\n",
       "      <td>0</td>\n",
       "      <td>NaN</td>\n",
       "      <td>-49.0</td>\n",
       "      <td>NaN</td>\n",
       "      <td>7.0</td>\n",
       "      <td>3.0</td>\n",
       "      <td>0.0</td>\n",
       "      <td>2014-15</td>\n",
       "      <td>14.0</td>\n",
       "      <td>39.0</td>\n",
       "      <td>...</td>\n",
       "      <td>46.667324, -94.419250</td>\n",
       "      <td>shot - 3</td>\n",
       "      <td>shot - 3</td>\n",
       "      <td>21400351</td>\n",
       "      <td>1610612747</td>\n",
       "      <td>38.20</td>\n",
       "      <td>3.0</td>\n",
       "      <td>0.0</td>\n",
       "      <td>29.2</td>\n",
       "      <td>38.400</td>\n",
       "    </tr>\n",
       "    <tr>\n",
       "      <th>1</th>\n",
       "      <td>0</td>\n",
       "      <td>505.0</td>\n",
       "      <td>-59.0</td>\n",
       "      <td>191.0</td>\n",
       "      <td>1.0</td>\n",
       "      <td>4.0</td>\n",
       "      <td>0.0</td>\n",
       "      <td>2002-03</td>\n",
       "      <td>9.0</td>\n",
       "      <td>39.0</td>\n",
       "      <td>...</td>\n",
       "      <td>33.552026, -112.071667</td>\n",
       "      <td>shot - 48</td>\n",
       "      <td>NaN</td>\n",
       "      <td>20200471</td>\n",
       "      <td>1610612747</td>\n",
       "      <td>87.64</td>\n",
       "      <td>4.0</td>\n",
       "      <td>NaN</td>\n",
       "      <td>NaN</td>\n",
       "      <td>39.000</td>\n",
       "    </tr>\n",
       "    <tr>\n",
       "      <th>2</th>\n",
       "      <td>1</td>\n",
       "      <td>309.0</td>\n",
       "      <td>0.0</td>\n",
       "      <td>0.0</td>\n",
       "      <td>2.0</td>\n",
       "      <td>3.0</td>\n",
       "      <td>NaN</td>\n",
       "      <td>1997-98</td>\n",
       "      <td>58.0</td>\n",
       "      <td>20.0</td>\n",
       "      <td>...</td>\n",
       "      <td>41.845137, -87.660450</td>\n",
       "      <td>shot - 39</td>\n",
       "      <td>NaN</td>\n",
       "      <td>29700335</td>\n",
       "      <td>1610612747</td>\n",
       "      <td>74.64</td>\n",
       "      <td>3.0</td>\n",
       "      <td>NaN</td>\n",
       "      <td>NaN</td>\n",
       "      <td>20.000</td>\n",
       "    </tr>\n",
       "    <tr>\n",
       "      <th>3</th>\n",
       "      <td>0</td>\n",
       "      <td>106.0</td>\n",
       "      <td>6.0</td>\n",
       "      <td>242.0</td>\n",
       "      <td>0.0</td>\n",
       "      <td>1.0</td>\n",
       "      <td>1.0</td>\n",
       "      <td>2007-08</td>\n",
       "      <td>21.0</td>\n",
       "      <td>44.0</td>\n",
       "      <td>...</td>\n",
       "      <td>42.330507, -71.074655</td>\n",
       "      <td>shot - 50</td>\n",
       "      <td>NaN</td>\n",
       "      <td>40700406</td>\n",
       "      <td>1610612747</td>\n",
       "      <td>0.00</td>\n",
       "      <td>1.0</td>\n",
       "      <td>1.0</td>\n",
       "      <td>21.0</td>\n",
       "      <td>111.728</td>\n",
       "    </tr>\n",
       "    <tr>\n",
       "      <th>4</th>\n",
       "      <td>0</td>\n",
       "      <td>284.0</td>\n",
       "      <td>-120.0</td>\n",
       "      <td>82.0</td>\n",
       "      <td>9.0</td>\n",
       "      <td>3.0</td>\n",
       "      <td>1.0</td>\n",
       "      <td>2003-04</td>\n",
       "      <td>36.0</td>\n",
       "      <td>34.0</td>\n",
       "      <td>...</td>\n",
       "      <td>NaN</td>\n",
       "      <td>shot - 3</td>\n",
       "      <td>shot - 3</td>\n",
       "      <td>40300316</td>\n",
       "      <td>1610612747</td>\n",
       "      <td>9.00</td>\n",
       "      <td>NaN</td>\n",
       "      <td>1.0</td>\n",
       "      <td>36.0</td>\n",
       "      <td>34.000</td>\n",
       "    </tr>\n",
       "  </tbody>\n",
       "</table>\n",
       "<p>5 rows × 27 columns</p>\n",
       "</div>"
      ],
      "text/plain": [
       "   is_goal  match_event_id  location_x  location_y  remaining_min  \\\n",
       "0        0             NaN       -49.0         NaN            7.0   \n",
       "1        0           505.0       -59.0       191.0            1.0   \n",
       "2        1           309.0         0.0         0.0            2.0   \n",
       "3        0           106.0         6.0       242.0            0.0   \n",
       "4        0           284.0      -120.0        82.0            9.0   \n",
       "\n",
       "   power_of_shot1  knockout_match2 game_season  remaining_sec1  \\\n",
       "0             3.0              0.0     2014-15            14.0   \n",
       "1             4.0              0.0     2002-03             9.0   \n",
       "2             3.0              NaN     1997-98            58.0   \n",
       "3             1.0              1.0     2007-08            21.0   \n",
       "4             3.0              1.0     2003-04            36.0   \n",
       "\n",
       "   distance_of_shot1  ...                 lat_lng type_of_shot  \\\n",
       "0               39.0  ...   46.667324, -94.419250     shot - 3   \n",
       "1               39.0  ...  33.552026, -112.071667    shot - 48   \n",
       "2               20.0  ...   41.845137, -87.660450    shot - 39   \n",
       "3               44.0  ...   42.330507, -71.074655    shot - 50   \n",
       "4               34.0  ...                     NaN     shot - 3   \n",
       "\n",
       "  type_of_combined_shot  match_id     team_id remaining_min.1  power_of_shot  \\\n",
       "0              shot - 3  21400351  1610612747           38.20            3.0   \n",
       "1                   NaN  20200471  1610612747           87.64            4.0   \n",
       "2                   NaN  29700335  1610612747           74.64            3.0   \n",
       "3                   NaN  40700406  1610612747            0.00            1.0   \n",
       "4              shot - 3  40300316  1610612747            9.00            NaN   \n",
       "\n",
       "  knockout_match1 remaining_sec2 distance_of_shot2  \n",
       "0             0.0           29.2            38.400  \n",
       "1             NaN            NaN            39.000  \n",
       "2             NaN            NaN            20.000  \n",
       "3             1.0           21.0           111.728  \n",
       "4             1.0           36.0            34.000  \n",
       "\n",
       "[5 rows x 27 columns]"
      ]
     },
     "execution_count": 3,
     "metadata": {},
     "output_type": "execute_result"
    }
   ],
   "source": [
    "df.head()"
   ]
  },
  {
   "cell_type": "code",
   "execution_count": 4,
   "id": "70bbf21b",
   "metadata": {},
   "outputs": [
    {
     "data": {
      "text/plain": [
       "(20764, 27)"
      ]
     },
     "execution_count": 4,
     "metadata": {},
     "output_type": "execute_result"
    }
   ],
   "source": [
    "df.shape #rows,columns"
   ]
  },
  {
   "cell_type": "code",
   "execution_count": 5,
   "id": "98f1adc4",
   "metadata": {},
   "outputs": [
    {
     "data": {
      "text/plain": [
       "is_goal                      0\n",
       "match_event_id            1044\n",
       "location_x                 954\n",
       "location_y                1042\n",
       "remaining_min             1043\n",
       "power_of_shot1             240\n",
       "knockout_match2            266\n",
       "game_season               3919\n",
       "remaining_sec1             213\n",
       "distance_of_shot1         1069\n",
       "area_of_shot              1011\n",
       "shot_basics               1098\n",
       "range_of_shot             1084\n",
       "team_name                 1031\n",
       "date_of_game              1041\n",
       "home_away                 1019\n",
       "shot_id_number            1049\n",
       "lat_lng                   1068\n",
       "type_of_shot                 0\n",
       "type_of_combined_shot    10454\n",
       "match_id                     0\n",
       "team_id                      0\n",
       "remaining_min.1           1051\n",
       "power_of_shot             1028\n",
       "knockout_match1           1034\n",
       "remaining_sec2            1033\n",
       "distance_of_shot2         1050\n",
       "dtype: int64"
      ]
     },
     "execution_count": 5,
     "metadata": {},
     "output_type": "execute_result"
    }
   ],
   "source": [
    "df.isnull().sum()#understand no. of missing values under each columns"
   ]
  },
  {
   "cell_type": "code",
   "execution_count": 6,
   "id": "c886fbcb",
   "metadata": {},
   "outputs": [],
   "source": [
    "#percentage of data missing"
   ]
  },
  {
   "cell_type": "code",
   "execution_count": 7,
   "id": "fb72b95d",
   "metadata": {},
   "outputs": [
    {
     "data": {
      "text/plain": [
       "is_goal                   0.0\n",
       "match_event_id            5.0\n",
       "location_x                4.6\n",
       "location_y                5.0\n",
       "remaining_min             5.0\n",
       "power_of_shot1            1.2\n",
       "knockout_match2           1.3\n",
       "game_season              18.9\n",
       "remaining_sec1            1.0\n",
       "distance_of_shot1         5.1\n",
       "area_of_shot              4.9\n",
       "shot_basics               5.3\n",
       "range_of_shot             5.2\n",
       "team_name                 5.0\n",
       "date_of_game              5.0\n",
       "home_away                 4.9\n",
       "shot_id_number            5.1\n",
       "lat_lng                   5.1\n",
       "type_of_shot              0.0\n",
       "type_of_combined_shot    50.3\n",
       "match_id                  0.0\n",
       "team_id                   0.0\n",
       "remaining_min.1           5.1\n",
       "power_of_shot             5.0\n",
       "knockout_match1           5.0\n",
       "remaining_sec2            5.0\n",
       "distance_of_shot2         5.1\n",
       "dtype: float64"
      ]
     },
     "execution_count": 7,
     "metadata": {},
     "output_type": "execute_result"
    }
   ],
   "source": [
    "(df.isnull().sum()/len(df)*100).round(1)"
   ]
  },
  {
   "cell_type": "code",
   "execution_count": 8,
   "id": "7ac4a1fa",
   "metadata": {},
   "outputs": [
    {
     "data": {
      "text/html": [
       "<div>\n",
       "<style scoped>\n",
       "    .dataframe tbody tr th:only-of-type {\n",
       "        vertical-align: middle;\n",
       "    }\n",
       "\n",
       "    .dataframe tbody tr th {\n",
       "        vertical-align: top;\n",
       "    }\n",
       "\n",
       "    .dataframe thead th {\n",
       "        text-align: right;\n",
       "    }\n",
       "</style>\n",
       "<table border=\"1\" class=\"dataframe\">\n",
       "  <thead>\n",
       "    <tr style=\"text-align: right;\">\n",
       "      <th></th>\n",
       "      <th>no_of_missing_value</th>\n",
       "    </tr>\n",
       "  </thead>\n",
       "  <tbody>\n",
       "    <tr>\n",
       "      <th>is_goal</th>\n",
       "      <td>0</td>\n",
       "    </tr>\n",
       "    <tr>\n",
       "      <th>match_event_id</th>\n",
       "      <td>1044</td>\n",
       "    </tr>\n",
       "    <tr>\n",
       "      <th>location_x</th>\n",
       "      <td>954</td>\n",
       "    </tr>\n",
       "    <tr>\n",
       "      <th>location_y</th>\n",
       "      <td>1042</td>\n",
       "    </tr>\n",
       "    <tr>\n",
       "      <th>remaining_min</th>\n",
       "      <td>1043</td>\n",
       "    </tr>\n",
       "    <tr>\n",
       "      <th>power_of_shot1</th>\n",
       "      <td>240</td>\n",
       "    </tr>\n",
       "    <tr>\n",
       "      <th>knockout_match2</th>\n",
       "      <td>266</td>\n",
       "    </tr>\n",
       "    <tr>\n",
       "      <th>game_season</th>\n",
       "      <td>3919</td>\n",
       "    </tr>\n",
       "    <tr>\n",
       "      <th>remaining_sec1</th>\n",
       "      <td>213</td>\n",
       "    </tr>\n",
       "    <tr>\n",
       "      <th>distance_of_shot1</th>\n",
       "      <td>1069</td>\n",
       "    </tr>\n",
       "    <tr>\n",
       "      <th>area_of_shot</th>\n",
       "      <td>1011</td>\n",
       "    </tr>\n",
       "    <tr>\n",
       "      <th>shot_basics</th>\n",
       "      <td>1098</td>\n",
       "    </tr>\n",
       "    <tr>\n",
       "      <th>range_of_shot</th>\n",
       "      <td>1084</td>\n",
       "    </tr>\n",
       "    <tr>\n",
       "      <th>team_name</th>\n",
       "      <td>1031</td>\n",
       "    </tr>\n",
       "    <tr>\n",
       "      <th>date_of_game</th>\n",
       "      <td>1041</td>\n",
       "    </tr>\n",
       "    <tr>\n",
       "      <th>home_away</th>\n",
       "      <td>1019</td>\n",
       "    </tr>\n",
       "    <tr>\n",
       "      <th>shot_id_number</th>\n",
       "      <td>1049</td>\n",
       "    </tr>\n",
       "    <tr>\n",
       "      <th>lat_lng</th>\n",
       "      <td>1068</td>\n",
       "    </tr>\n",
       "    <tr>\n",
       "      <th>type_of_shot</th>\n",
       "      <td>0</td>\n",
       "    </tr>\n",
       "    <tr>\n",
       "      <th>type_of_combined_shot</th>\n",
       "      <td>10454</td>\n",
       "    </tr>\n",
       "    <tr>\n",
       "      <th>match_id</th>\n",
       "      <td>0</td>\n",
       "    </tr>\n",
       "    <tr>\n",
       "      <th>team_id</th>\n",
       "      <td>0</td>\n",
       "    </tr>\n",
       "    <tr>\n",
       "      <th>remaining_min.1</th>\n",
       "      <td>1051</td>\n",
       "    </tr>\n",
       "    <tr>\n",
       "      <th>power_of_shot</th>\n",
       "      <td>1028</td>\n",
       "    </tr>\n",
       "    <tr>\n",
       "      <th>knockout_match1</th>\n",
       "      <td>1034</td>\n",
       "    </tr>\n",
       "    <tr>\n",
       "      <th>remaining_sec2</th>\n",
       "      <td>1033</td>\n",
       "    </tr>\n",
       "    <tr>\n",
       "      <th>distance_of_shot2</th>\n",
       "      <td>1050</td>\n",
       "    </tr>\n",
       "  </tbody>\n",
       "</table>\n",
       "</div>"
      ],
      "text/plain": [
       "                       no_of_missing_value\n",
       "is_goal                                  0\n",
       "match_event_id                        1044\n",
       "location_x                             954\n",
       "location_y                            1042\n",
       "remaining_min                         1043\n",
       "power_of_shot1                         240\n",
       "knockout_match2                        266\n",
       "game_season                           3919\n",
       "remaining_sec1                         213\n",
       "distance_of_shot1                     1069\n",
       "area_of_shot                          1011\n",
       "shot_basics                           1098\n",
       "range_of_shot                         1084\n",
       "team_name                             1031\n",
       "date_of_game                          1041\n",
       "home_away                             1019\n",
       "shot_id_number                        1049\n",
       "lat_lng                               1068\n",
       "type_of_shot                             0\n",
       "type_of_combined_shot                10454\n",
       "match_id                                 0\n",
       "team_id                                  0\n",
       "remaining_min.1                       1051\n",
       "power_of_shot                         1028\n",
       "knockout_match1                       1034\n",
       "remaining_sec2                        1033\n",
       "distance_of_shot2                     1050"
      ]
     },
     "execution_count": 8,
     "metadata": {},
     "output_type": "execute_result"
    }
   ],
   "source": [
    "#Tabular report \n",
    "missing=pd.DataFrame(df.isnull().sum(),columns=['no_of_missing_value'])\n",
    "missing"
   ]
  },
  {
   "cell_type": "code",
   "execution_count": 9,
   "id": "29b206e2",
   "metadata": {},
   "outputs": [],
   "source": [
    "missing['Total_no_of_row']=len(df)"
   ]
  },
  {
   "cell_type": "code",
   "execution_count": 10,
   "id": "0800012c",
   "metadata": {},
   "outputs": [],
   "source": [
    "missing['percentage']=(df.isnull().sum()/len(df)*100).round(1)\n"
   ]
  },
  {
   "cell_type": "code",
   "execution_count": 11,
   "id": "bdf91877",
   "metadata": {},
   "outputs": [],
   "source": [
    "missing.sort_values(by='percentage',ascending=False,inplace=True)"
   ]
  },
  {
   "cell_type": "code",
   "execution_count": 12,
   "id": "bc2f6cf6",
   "metadata": {},
   "outputs": [
    {
     "data": {
      "text/html": [
       "<div>\n",
       "<style scoped>\n",
       "    .dataframe tbody tr th:only-of-type {\n",
       "        vertical-align: middle;\n",
       "    }\n",
       "\n",
       "    .dataframe tbody tr th {\n",
       "        vertical-align: top;\n",
       "    }\n",
       "\n",
       "    .dataframe thead th {\n",
       "        text-align: right;\n",
       "    }\n",
       "</style>\n",
       "<table border=\"1\" class=\"dataframe\">\n",
       "  <thead>\n",
       "    <tr style=\"text-align: right;\">\n",
       "      <th></th>\n",
       "      <th>no_of_missing_value</th>\n",
       "      <th>Total_no_of_row</th>\n",
       "      <th>percentage</th>\n",
       "    </tr>\n",
       "  </thead>\n",
       "  <tbody>\n",
       "    <tr>\n",
       "      <th>type_of_combined_shot</th>\n",
       "      <td>10454</td>\n",
       "      <td>20764</td>\n",
       "      <td>50.3</td>\n",
       "    </tr>\n",
       "    <tr>\n",
       "      <th>game_season</th>\n",
       "      <td>3919</td>\n",
       "      <td>20764</td>\n",
       "      <td>18.9</td>\n",
       "    </tr>\n",
       "    <tr>\n",
       "      <th>shot_basics</th>\n",
       "      <td>1098</td>\n",
       "      <td>20764</td>\n",
       "      <td>5.3</td>\n",
       "    </tr>\n",
       "    <tr>\n",
       "      <th>range_of_shot</th>\n",
       "      <td>1084</td>\n",
       "      <td>20764</td>\n",
       "      <td>5.2</td>\n",
       "    </tr>\n",
       "    <tr>\n",
       "      <th>distance_of_shot2</th>\n",
       "      <td>1050</td>\n",
       "      <td>20764</td>\n",
       "      <td>5.1</td>\n",
       "    </tr>\n",
       "  </tbody>\n",
       "</table>\n",
       "</div>"
      ],
      "text/plain": [
       "                       no_of_missing_value  Total_no_of_row  percentage\n",
       "type_of_combined_shot                10454            20764        50.3\n",
       "game_season                           3919            20764        18.9\n",
       "shot_basics                           1098            20764         5.3\n",
       "range_of_shot                         1084            20764         5.2\n",
       "distance_of_shot2                     1050            20764         5.1"
      ]
     },
     "execution_count": 12,
     "metadata": {},
     "output_type": "execute_result"
    }
   ],
   "source": [
    "missing.head()"
   ]
  },
  {
   "cell_type": "code",
   "execution_count": 13,
   "id": "afab3ec2",
   "metadata": {},
   "outputs": [],
   "source": [
    "missing.to_csv('missing_report.csv')\n"
   ]
  },
  {
   "cell_type": "code",
   "execution_count": 14,
   "id": "e97a9f57",
   "metadata": {},
   "outputs": [
    {
     "data": {
      "text/plain": [
       "<AxesSubplot:xlabel='no_of_missing_value'>"
      ]
     },
     "execution_count": 14,
     "metadata": {},
     "output_type": "execute_result"
    },
    {
     "data": {
      "image/png": "[encoded data removed]",
      "text/plain": [
       "<Figure size 432x288 with 1 Axes>"
      ]
     },
     "metadata": {
      "needs_background": "light"
     },
     "output_type": "display_data"
    }
   ],
   "source": [
    "sns.barplot(y=missing.index,x='no_of_missing_value',data=missing)\n"
   ]
  },
  {
   "cell_type": "code",
   "execution_count": 15,
   "id": "0cd21e15",
   "metadata": {},
   "outputs": [],
   "source": [
    "#row wise missing"
   ]
  },
  {
   "cell_type": "code",
   "execution_count": 16,
   "id": "fab8bcc9",
   "metadata": {},
   "outputs": [
    {
     "data": {
      "text/plain": [
       "1    7000\n",
       "2    6119\n",
       "0    3337\n",
       "3    3006\n",
       "4     985\n",
       "5     260\n",
       "6      54\n",
       "7       3\n",
       "dtype: int64"
      ]
     },
     "execution_count": 16,
     "metadata": {},
     "output_type": "execute_result"
    }
   ],
   "source": [
    "df.isnull().sum(axis=1).value_counts()"
   ]
  },
  {
   "cell_type": "code",
   "execution_count": 17,
   "id": "c6b6331f",
   "metadata": {},
   "outputs": [],
   "source": [
    "missing_rows=df.isnull().sum(axis=1).value_counts()\n",
    "missing_rows=pd.DataFrame(missing_rows,columns=['missing_sparsity'])\n",
    "missing_rows.reset_index(inplace=True)"
   ]
  },
  {
   "cell_type": "code",
   "execution_count": 18,
   "id": "0b49e54a",
   "metadata": {},
   "outputs": [],
   "source": [
    "missing_rows['No_of_Features']=df.shape[1]"
   ]
  },
  {
   "cell_type": "code",
   "execution_count": 19,
   "id": "4f66218e",
   "metadata": {},
   "outputs": [
    {
     "data": {
      "text/html": [
       "<div>\n",
       "<style scoped>\n",
       "    .dataframe tbody tr th:only-of-type {\n",
       "        vertical-align: middle;\n",
       "    }\n",
       "\n",
       "    .dataframe tbody tr th {\n",
       "        vertical-align: top;\n",
       "    }\n",
       "\n",
       "    .dataframe thead th {\n",
       "        text-align: right;\n",
       "    }\n",
       "</style>\n",
       "<table border=\"1\" class=\"dataframe\">\n",
       "  <thead>\n",
       "    <tr style=\"text-align: right;\">\n",
       "      <th></th>\n",
       "      <th>No_of_Features</th>\n",
       "      <th>No_of feature_having_missing_val</th>\n",
       "      <th>missing_sparsity</th>\n",
       "    </tr>\n",
       "  </thead>\n",
       "  <tbody>\n",
       "    <tr>\n",
       "      <th>0</th>\n",
       "      <td>27</td>\n",
       "      <td>1</td>\n",
       "      <td>7000</td>\n",
       "    </tr>\n",
       "    <tr>\n",
       "      <th>1</th>\n",
       "      <td>27</td>\n",
       "      <td>2</td>\n",
       "      <td>6119</td>\n",
       "    </tr>\n",
       "    <tr>\n",
       "      <th>2</th>\n",
       "      <td>27</td>\n",
       "      <td>0</td>\n",
       "      <td>3337</td>\n",
       "    </tr>\n",
       "    <tr>\n",
       "      <th>3</th>\n",
       "      <td>27</td>\n",
       "      <td>3</td>\n",
       "      <td>3006</td>\n",
       "    </tr>\n",
       "    <tr>\n",
       "      <th>4</th>\n",
       "      <td>27</td>\n",
       "      <td>4</td>\n",
       "      <td>985</td>\n",
       "    </tr>\n",
       "    <tr>\n",
       "      <th>5</th>\n",
       "      <td>27</td>\n",
       "      <td>5</td>\n",
       "      <td>260</td>\n",
       "    </tr>\n",
       "    <tr>\n",
       "      <th>6</th>\n",
       "      <td>27</td>\n",
       "      <td>6</td>\n",
       "      <td>54</td>\n",
       "    </tr>\n",
       "    <tr>\n",
       "      <th>7</th>\n",
       "      <td>27</td>\n",
       "      <td>7</td>\n",
       "      <td>3</td>\n",
       "    </tr>\n",
       "  </tbody>\n",
       "</table>\n",
       "</div>"
      ],
      "text/plain": [
       "   No_of_Features  No_of feature_having_missing_val  missing_sparsity\n",
       "0              27                                 1              7000\n",
       "1              27                                 2              6119\n",
       "2              27                                 0              3337\n",
       "3              27                                 3              3006\n",
       "4              27                                 4               985\n",
       "5              27                                 5               260\n",
       "6              27                                 6                54\n",
       "7              27                                 7                 3"
      ]
     },
     "execution_count": 19,
     "metadata": {},
     "output_type": "execute_result"
    }
   ],
   "source": [
    "missing_rows.columns=['No_of feature_having_missing_val','missing_sparsity','No_of_Features']\n",
    "missing_rows[['No_of_Features','No_of feature_having_missing_val','missing_sparsity']]\n"
   ]
  },
  {
   "cell_type": "code",
   "execution_count": 20,
   "id": "30e371ec",
   "metadata": {},
   "outputs": [],
   "source": [
    "missing_rows.to_csv('missing_rows.csv')"
   ]
  },
  {
   "cell_type": "code",
   "execution_count": 21,
   "id": "4dbddee9",
   "metadata": {},
   "outputs": [],
   "source": [
    "import missingno as msng"
   ]
  },
  {
   "cell_type": "code",
   "execution_count": 22,
   "id": "2c980384",
   "metadata": {},
   "outputs": [
    {
     "data": {
      "text/plain": [
       "<AxesSubplot:>"
      ]
     },
     "execution_count": 22,
     "metadata": {},
     "output_type": "execute_result"
    },
    {
     "data": {
      "image/png": "[encoded data removed]",
      "text/plain": [
       "<Figure size 1800x720 with 2 Axes>"
      ]
     },
     "metadata": {
      "needs_background": "light"
     },
     "output_type": "display_data"
    }
   ],
   "source": [
    "msng.matrix(df)#missing value is spread over entire dataset"
   ]
  },
  {
   "cell_type": "code",
   "execution_count": null,
   "id": "8e7cd6b9",
   "metadata": {},
   "outputs": [],
   "source": [
    "\n"
   ]
  }
 ],
 "metadata": {
  "kernelspec": {
   "display_name": "Python 3",
   "language": "python",
   "name": "python3"
  },
  "language_info": {
   "codemirror_mode": {
    "name": "ipython",
    "version": 3
   },
   "file_extension": ".py",
   "mimetype": "text/x-python",
   "name": "python",
   "nbconvert_exporter": "python",
   "pygments_lexer": "ipython3",
   "version": "3.9.5"
  }
 },
 "nbformat": 4,
 "nbformat_minor": 5
}
